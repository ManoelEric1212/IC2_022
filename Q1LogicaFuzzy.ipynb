{
  "nbformat": 4,
  "nbformat_minor": 0,
  "metadata": {
    "colab": {
      "name": "Q1LogicaFuzzy.ipynb",
      "provenance": [],
      "authorship_tag": "ABX9TyPpyca5ud2ZKW1jnZjFJlSO",
      "include_colab_link": true
    },
    "kernelspec": {
      "name": "python3",
      "display_name": "Python 3"
    },
    "language_info": {
      "name": "python"
    }
  },
  "cells": [
    {
      "cell_type": "markdown",
      "metadata": {
        "id": "view-in-github",
        "colab_type": "text"
      },
      "source": [
        "<a href=\"https://colab.research.google.com/github/ManoelEric1212/IC2_022/blob/main/Q1LogicaFuzzy.ipynb\" target=\"_parent\"><img src=\"https://colab.research.google.com/assets/colab-badge.svg\" alt=\"Open In Colab\"/></a>"
      ]
    },
    {
      "cell_type": "code",
      "execution_count": 1,
      "metadata": {
        "colab": {
          "base_uri": "https://localhost:8080/",
          "height": 324
        },
        "id": "VVwRwySorVzy",
        "outputId": "74c32dd3-f11b-4e2a-8b79-ac58e5336cc2"
      },
      "outputs": [
        {
          "output_type": "stream",
          "name": "stdout",
          "text": [
            "Digite a temperatura: 30\n",
            "Digite o preço: 3.5\n",
            "Output 3250.000000000032\n"
          ]
        },
        {
          "output_type": "display_data",
          "data": {
            "text/plain": [
              "<Figure size 432x288 with 1 Axes>"
            ],
            "image/png": "[encoded data removed]"
          },
          "metadata": {
            "needs_background": "light"
          }
        }
      ],
      "source": [
        "import math\n",
        "import numpy as np\n",
        "import matplotlib.pyplot as plt\n",
        "\n",
        "#Define a funcao para a distribuicao gaussiana\n",
        "def gaussiana(x, desvio, intervalo):\n",
        "    return math.exp(-(x-intervalo)**2/(2*desvio**2))\n",
        "\n",
        "#Define a funcao para a distribuicao triangular\n",
        "def triangular(x,a,b,c):\n",
        "    if x <= a:\n",
        "        return 0\n",
        "    if x > a and x <= b:\n",
        "        return (x - a)/(b-a)\n",
        "    if x > b and x < c:\n",
        "        return (c-x)/(c-b)\n",
        "    if x >=c:\n",
        "        return 0\n",
        "    \n",
        "#Definindo as funcoes de pertinencia\n",
        "    \n",
        "# TEMPERATURA\n",
        "def T_baixo(x):\n",
        "    return gaussiana(x, 6.369, 15)\n",
        "def T_med(x):\n",
        "    return gaussiana(x, 6.369, 30)\n",
        "def T_alto(x):\n",
        "    return gaussiana(x, 6.369, 45)\n",
        "# PRECO\n",
        "def P_baixo(x):\n",
        "    return gaussiana(x, 1.061, 1)\n",
        "def P_medio(x):\n",
        "    return gaussiana(x, 1.061, 3.5)\n",
        "def P_alto(x):\n",
        "    return gaussiana(x, 1.061, 6)\n",
        "# CONSUMO\n",
        "def C_baixo(x):\n",
        "    return triangular(x, -2250, 500, 3250)\n",
        "def C_medio(x):\n",
        "    return triangular(x, 500, 3250, 6000)\n",
        "def C_alto(x):\n",
        "    return triangular(x, 3250, 6000, 8750)\n",
        "\n",
        "#Recebendo as entradas\n",
        "temperatura = float(input(\"Digite a temperatura: \"))\n",
        "preco = float(input(\"Digite o preço: \"))\n",
        "\n",
        "#Aplicacao das regras de inferencia sob as entradas fuzzificadas\n",
        "cg1 = min(T_baixo(temperatura),P_baixo(preco))\n",
        "# Se a temp é baixa e o preço é baixo, então o consumo é grande\n",
        "cm1 = min(T_baixo(temperatura),P_medio(preco))\n",
        "# Se a temp é baixa e o preço é medio, então o consumo é medio\n",
        "cp1 = min(T_baixo(temperatura),P_alto(preco))\n",
        "# Se a temp é baixa e o preço é alto, então o consumo é pequeno\n",
        "cg2 = min(T_med(temperatura),P_baixo(preco))\n",
        "# Se a temp é media e o preço é baixo, então o consumo é grande\n",
        "cm2 = min(T_med(temperatura),P_medio(preco))\n",
        "# Se a temp é media e o preço é medio, então o consumo é medio\n",
        "cp2 = min(T_med(temperatura),P_alto(preco))\n",
        "# Se a temp é media e o preço é alto, então o consumo é pequeno\n",
        "cg3 = min(T_med(temperatura),P_baixo(preco))\n",
        "# Se a temp é alta e o preço é baixo, então o consumo é grande\n",
        "cm3 = min(T_med(temperatura),P_medio(preco))\n",
        "# Se a temp é alta e o preço é medio, então o consumo é medio\n",
        "cp3 = min(T_med(temperatura),P_alto(preco))\n",
        "# Se a temp é alta e o preço é alto, então o consumo é pequeno\n",
        "\n",
        "# Implicacao (min)\n",
        "def Cp1(x):\n",
        "    return min(cp1,C_baixo(x))\n",
        "def Cp2(x):\n",
        "    return min(cp2,C_baixo(x))\n",
        "def Cp3(x):\n",
        "    return min(cp3,C_baixo(x))\n",
        "def Cm1(x):\n",
        "    return min(cm1,C_medio(x))\n",
        "def Cm2(x):\n",
        "    return min(cm2,C_medio(x))\n",
        "def Cm3(x):\n",
        "    return min(cm3,C_medio(x))\n",
        "def Cg1(x):\n",
        "    return min(cg1,C_alto(x))\n",
        "def Cg2(x):\n",
        "    return min(cg2,C_alto(x))\n",
        "def Cg3(x):\n",
        "    return min(cg3,C_alto(x))   \n",
        "\n",
        "# Agregação\n",
        "def Saidafuzzy(x):\n",
        "    return max([Cp1(x), Cp2(x), Cp3(x), Cm1(x), Cm2(x), Cm3(x), Cg1(x), Cg2(x), Cg3(x)])\n",
        "\n",
        "# Desfuzificacao\n",
        "x = np.arange(500, 6000.1, 0.5)\n",
        "y = np.array([])\n",
        "numerador = 0\n",
        "denominador = 0\n",
        "for i in x:\n",
        "    y = np.append(y, Saidafuzzy(i))\n",
        "    numerador = numerador + i*Saidafuzzy(i)\n",
        "    denominador = denominador + Saidafuzzy(i)\n",
        "\n",
        "out = numerador/denominador\n",
        "print('Output',out)\n",
        "plt.plot(x,y, color ='r')\n",
        "plt.ylim(0,1)\n",
        "plt.xlim(500,6000)\n",
        "plt.grid()\n",
        "plt.show()"
      ]
    },
    {
      "cell_type": "code",
      "source": [
        ""
      ],
      "metadata": {
        "id": "EN6wOYCNrZ5T"
      },
      "execution_count": 1,
      "outputs": []
    }
  ]
}